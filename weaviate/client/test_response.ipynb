{
 "cells": [
  {
   "cell_type": "code",
   "execution_count": 11,
   "metadata": {},
   "outputs": [
    {
     "ename": "FileNotFoundError",
     "evalue": "[Errno 2] No such file or directory: 'weaviate\\\\client\\\\config.json'",
     "output_type": "error",
     "traceback": [
      "\u001b[1;31m---------------------------------------------------------------------------\u001b[0m",
      "\u001b[1;31mFileNotFoundError\u001b[0m                         Traceback (most recent call last)",
      "Cell \u001b[1;32mIn[11], line 4\u001b[0m\n\u001b[0;32m      1\u001b[0m \u001b[38;5;28;01mfrom\u001b[39;00m \u001b[38;5;21;01mclient\u001b[39;00m \u001b[38;5;28;01mimport\u001b[39;00m get_weaviate_client\n\u001b[0;32m      2\u001b[0m \u001b[38;5;28;01mimport\u001b[39;00m \u001b[38;5;21;01mweaviate\u001b[39;00m\n\u001b[1;32m----> 4\u001b[0m client \u001b[38;5;241m=\u001b[39m \u001b[43mget_weaviate_client\u001b[49m\u001b[43m(\u001b[49m\u001b[43m)\u001b[49m\n",
      "File \u001b[1;32mm:\\FortaInfinity-BotWeiser\\weaviate\\client\\client.py:6\u001b[0m, in \u001b[0;36mget_weaviate_client\u001b[1;34m()\u001b[0m\n\u001b[0;32m      1\u001b[0m import weaviate\n\u001b[0;32m      2\u001b[0m import json\n\u001b[0;32m      4\u001b[0m def get_weaviate_client():\n\u001b[0;32m      5\u001b[0m     # Load configuration from the file\n\u001b[1;32m----> 6\u001b[0m     # Original path (using single backslashes)\n\u001b[0;32m      7\u001b[0m \n\u001b[0;32m      8\u001b[0m \n\u001b[0;32m      9\u001b[0m     # Modified path using a raw string literal\n\u001b[0;32m     10\u001b[0m     with open(r'weaviate\\client\\config.json', 'r') as config_file:\n\u001b[0;32m     11\u001b[0m         config = json.load(config_file)\n",
      "\u001b[1;31mFileNotFoundError\u001b[0m: [Errno 2] No such file or directory: 'weaviate\\\\client\\\\config.json'"
     ]
    }
   ],
   "source": [
    "from client import get_weaviate_client\n",
    "import weaviate\n",
    "\n",
    "client = get_weaviate_client()"
   ]
  },
  {
   "cell_type": "code",
   "execution_count": null,
   "metadata": {},
   "outputs": [],
   "source": [
    "response = (\n",
    "    client.query\n",
    "    .get(\"FortaBot\", [\"bot_id\", \"developer_id\", \"name\", \"description\", \"summary\", \"version\", \"timestamp\", \"chainIds\"])\n",
    "    .with_near_text({\"concepts\": [\"Scam Detector\"]})\n",
    "    .with_limit(5)\n",
    "    .do()\n",
    ")"
   ]
  },
  {
   "cell_type": "code",
   "execution_count": null,
   "metadata": {},
   "outputs": [],
   "source": [
    "response = (\n",
    "    client.query\n",
    "    .get(\"FortaBot\", [\"bot_id\", \"developer_id\", \"name\", \"description\", \"summary\", \"version\", \"timestamp\", \"chainIds\"])\n",
    "    .with_near_text({\"concepts\": [\"biology\"]})\n",
    "    .with_where({\n",
    "        \"path\": [\"summary\"],\n",
    "        \"operator\": \"Equal\",\n",
    "        \"valueText\": \"scam detector\"\n",
    "    })\n",
    "    .with_limit(2)\n",
    "    .do()\n",
    ")"
   ]
  },
  {
   "cell_type": "code",
   "execution_count": null,
   "metadata": {},
   "outputs": [],
   "source": [
    "response = (\n",
    "    client.query\n",
    "    .get(\"FortaBot\", [\"bot_id\", \"developer_id\", \"name\", \"description\", \"version\", \"timestamp\", \"chainIds\"])\n",
    "    .with_near_text({\"concepts\": [\"Scam Detector\"]})\n",
    "    .with_generate(single_prompt=\"Give me some of the Forta Detection Bots that can help with spam detection using {description}\")\n",
    "    .with_limit(2)\n",
    "    .do()\n",
    ")"
   ]
  }
 ],
 "metadata": {
  "kernelspec": {
   "display_name": "Python 3",
   "language": "python",
   "name": "python3"
  },
  "language_info": {
   "codemirror_mode": {
    "name": "ipython",
    "version": 3
   },
   "file_extension": ".py",
   "mimetype": "text/x-python",
   "name": "python",
   "nbconvert_exporter": "python",
   "pygments_lexer": "ipython3",
   "version": "3.11.1"
  }
 },
 "nbformat": 4,
 "nbformat_minor": 2
}
