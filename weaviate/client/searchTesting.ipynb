{
 "cells": [
  {
   "cell_type": "code",
   "execution_count": 2,
   "metadata": {},
   "outputs": [],
   "source": [
    "from client import get_weaviate_client\n",
    "import weaviate\n",
    "import json"
   ]
  },
  {
   "cell_type": "code",
   "execution_count": 3,
   "metadata": {},
   "outputs": [
    {
     "name": "stderr",
     "output_type": "stream",
     "text": [
      "c:\\Users\\junhw\\AppData\\Local\\Programs\\Python\\Python311\\Lib\\site-packages\\weaviate\\__init__.py:128: DeprecationWarning: Dep010: Importing AuthApiKey from weaviate is deprecated. Please import it from its specific module: weaviate.auth\n",
      "  _Warnings.root_module_import(name, map_[name])\n",
      "c:\\Users\\junhw\\AppData\\Local\\Programs\\Python\\Python311\\Lib\\site-packages\\weaviate\\warnings.py:158: DeprecationWarning: Dep016: You are using the Weaviate v3 client, which is deprecated.\n",
      "            Consider upgrading to the new and improved v4 client instead!\n",
      "            See here for usage: https://weaviate.io/developers/weaviate/client-libraries/python\n",
      "            \n",
      "  warnings.warn(\n"
     ]
    }
   ],
   "source": [
    "client = get_weaviate_client()"
   ]
  },
  {
   "cell_type": "markdown",
   "metadata": {},
   "source": [
    "## Weaviate Search Test Implementation \n",
    "\n",
    "\n",
    "The object in Weaviate Clusters have attributes:\\\n",
    "\"bot_id\", \"name\", \"description\", \"timestamp\", \"chainIds\""
   ]
  },
  {
   "cell_type": "markdown",
   "metadata": {},
   "source": [
    "### Direct Questions\n",
    "\n",
    "Questions that describe certain bots that already exists in the database."
   ]
  },
  {
   "cell_type": "markdown",
   "metadata": {},
   "source": [
    "1. Give me a bot that identifies protocol attacks in real-time\\\n",
    "\\\n",
    "Expected: Attack Detector Feed (beta alt)\\\n",
    "Actual: Attack Detector Feed (beta alt), Attack Detector Feed (beta), Attack Detector Feed\n",
    "Search Type: Aggregation\\\n",
    "Result: All three bots were relevant. ✅\n"
   ]
  },
  {
   "cell_type": "code",
   "execution_count": 4,
   "metadata": {},
   "outputs": [
    {
     "name": "stdout",
     "output_type": "stream",
     "text": [
      "{\n",
      "  \"data\": {\n",
      "    \"Get\": {\n",
      "      \"FortaBot\": [\n",
      "        {\n",
      "          \"name\": \"Attack Detector Feed (beta alt)\"\n",
      "        },\n",
      "        {\n",
      "          \"name\": \"Attack Detector Feed (beta)\"\n",
      "        },\n",
      "        {\n",
      "          \"name\": \"Attack Detector Feed\"\n",
      "        }\n",
      "      ]\n",
      "    }\n",
      "  }\n",
      "}\n"
     ]
    }
   ],
   "source": [
    "response = (\n",
    "    client.query\n",
    "    .get(\"FortaBot\", [\"name\"])\n",
    "    .with_near_text({\"concepts\":[\"Give me a bot that identifies protocol attacks in real-time\"]})\n",
    "    .with_limit(3)\n",
    "    .do()\n",
    ")\n",
    "\n",
    "response_json = json.dumps(response, indent=2) \n",
    "print(response_json)"
   ]
  },
  {
   "cell_type": "markdown",
   "metadata": {},
   "source": [
    "2. I want a bot that is designed to detect asset drainage in smart contracts.\\\n",
    "\\\n",
    "Expected: Asset Drained\\\n",
    "Actual: Asset Drained, Large Balance Decrease - Stargate STG Bridge, Large Balance Decrease - Polygon Bridge\\\n",
    "Search Type: Aggregation\\\n",
    "Result: First picked bot is correct. ✅"
   ]
  },
  {
   "cell_type": "code",
   "execution_count": 5,
   "metadata": {},
   "outputs": [
    {
     "name": "stdout",
     "output_type": "stream",
     "text": [
      "{\n",
      "  \"data\": {\n",
      "    \"Get\": {\n",
      "      \"FortaBot\": [\n",
      "        {\n",
      "          \"name\": \"Asset Drained\"\n",
      "        },\n",
      "        {\n",
      "          \"name\": \"Large Balance Decrease - Stargate STG Bridge\"\n",
      "        },\n",
      "        {\n",
      "          \"name\": \"Large Balance Decrease - Polygon Bridge\"\n",
      "        }\n",
      "      ]\n",
      "    }\n",
      "  }\n",
      "}\n"
     ]
    }
   ],
   "source": [
    "response = (\n",
    "    client.query\n",
    "    .get(\"FortaBot\", [\"name\"])\n",
    "    .with_near_text({\"concepts\":[\"I want a bot that is designed to detect asset drainage in smart contracts.\"]})\n",
    "    .with_limit(3)\n",
    "    .do()\n",
    ")\n",
    "\n",
    "response_json = json.dumps(response, indent=2) \n",
    "print(response_json)"
   ]
  },
  {
   "cell_type": "markdown",
   "metadata": {},
   "source": [
    "3. Give a bot that detects and alerts on different types of evasion tactics used by smart contracts on the Ethereum blockchain\\\n",
    "\\\n",
    "Expected: forta-bot-evasion\\\n",
    "Actual: forta-bot-evasion, harry-bot-threatintel, Large Balance Decrease - Near Rainbow Bridge\\\n",
    "Search Type: Aggregation and Filter\\\n",
    "Result: The search with the filter to filter out chainIds and aggregation with some keywords worked. ✅"
   ]
  },
  {
   "cell_type": "code",
   "execution_count": 9,
   "metadata": {},
   "outputs": [
    {
     "name": "stdout",
     "output_type": "stream",
     "text": [
      "{\n",
      "  \"data\": {\n",
      "    \"Get\": {\n",
      "      \"FortaBot\": [\n",
      "        {\n",
      "          \"chainIds\": [\n",
      "            1,\n",
      "            137\n",
      "          ],\n",
      "          \"name\": \"harry-bot-threatintel\"\n",
      "        },\n",
      "        {\n",
      "          \"chainIds\": [\n",
      "            1\n",
      "          ],\n",
      "          \"name\": \"forta-bot-evasion\"\n",
      "        },\n",
      "        {\n",
      "          \"chainIds\": [\n",
      "            1\n",
      "          ],\n",
      "          \"name\": \"BlockSec Phishing Alert\"\n",
      "        }\n",
      "      ]\n",
      "    }\n",
      "  }\n",
      "}\n"
     ]
    }
   ],
   "source": [
    "response = (\n",
    "    client.query\n",
    "    .get(\"FortaBot\", [\"name\", \"chainIds\"])\n",
    "    .with_where({\n",
    "        \"path\": [\"chainIds\"],\n",
    "        \"operator\": \"Equal\",\n",
    "        \"valueNumber\": 1\n",
    "    })\n",
    "    .with_near_text({\"concepts\":[\"evasion tactics\", \"smart contracts\", \"alerts\", \"Ethereum\"]})\n",
    "    .with_limit(3)\n",
    "    .do()\n",
    ")\n",
    "\n",
    "response_json = json.dumps(response, indent=2) \n",
    "print(response_json)"
   ]
  },
  {
   "cell_type": "markdown",
   "metadata": {},
   "source": [
    "4. Recommend a bot that is primarily designed to monitor and analyze transactions executed from bridge receivers' timelocks.\\\n",
    "\\\n",
    "Expected: Compound v3 Timelock Transaction Executions Monitor\\\n",
    "Actual: timelock-controller-monitor, Compound v3 Timelock Transaction Executions Monitor, Large Balance Decrease - Avalanche Bridge\\\n",
    "Search Type: Aggregation\\\n",
    "Result: Using some keywords search, all the returned bots are relevant. ✅"
   ]
  },
  {
   "cell_type": "code",
   "execution_count": 10,
   "metadata": {},
   "outputs": [
    {
     "name": "stdout",
     "output_type": "stream",
     "text": [
      "{\n",
      "  \"data\": {\n",
      "    \"Get\": {\n",
      "      \"FortaBot\": [\n",
      "        {\n",
      "          \"name\": \"timelock-controller-monitor\"\n",
      "        },\n",
      "        {\n",
      "          \"name\": \"Compound v3 Timelock Transaction Executions Monitor\"\n",
      "        },\n",
      "        {\n",
      "          \"name\": \"Large Balance Decrease - Avalanche Bridge\"\n",
      "        }\n",
      "      ]\n",
      "    }\n",
      "  }\n",
      "}\n"
     ]
    }
   ],
   "source": [
    "response = (\n",
    "    client.query\n",
    "    .get(\"FortaBot\", [\"name\"])\n",
    "    .with_near_text({\"concepts\":[\"bridge receivers\", \"timeclock\", \"transactions\"]})\n",
    "    .with_limit(3)\n",
    "    .do()\n",
    ")\n",
    "\n",
    "response_json = json.dumps(response, indent=2) \n",
    "print(response_json)"
   ]
  },
  {
   "cell_type": "markdown",
   "metadata": {},
   "source": [
    "5. Which bot monitors and analyzes NFT transactions across multiple blockchain marketplaces, such as OpenSea, LooksRare, and Blur, to detect suspicious activities that may be indicative of scams or phishing attempts\\\n",
    "\\\n",
    "Expected: Scammer-NFT-trader\\\n",
    "Actual: scammer-nft-trader, NFT Sleep Minting Detection, phishing-scam-detection-ml-bot\\\n",
    "Search Type: Aggregation\\\n",
    "Result: Using some keywords search, all the returned bots are relevant. ✅"
   ]
  },
  {
   "cell_type": "code",
   "execution_count": 18,
   "metadata": {},
   "outputs": [
    {
     "name": "stdout",
     "output_type": "stream",
     "text": [
      "{\n",
      "  \"data\": {\n",
      "    \"Get\": {\n",
      "      \"FortaBot\": [\n",
      "        {\n",
      "          \"name\": \"scammer-nft-trader\"\n",
      "        },\n",
      "        {\n",
      "          \"name\": \"NFT Sleep Minting Detection\"\n",
      "        },\n",
      "        {\n",
      "          \"name\": \"phishing-scam-detection-ml-bot\"\n",
      "        }\n",
      "      ]\n",
      "    }\n",
      "  }\n",
      "}\n"
     ]
    }
   ],
   "source": [
    "response = (\n",
    "    client.query\n",
    "    .get(\"FortaBot\", [\"name\"])\n",
    "    .with_near_text({\"concepts\":[\"NFT\", \"transactions\", \"OpenSea\", \"LooksRare\", \"Blur\", \"scams\", \"phishing\"]})\n",
    "    .with_limit(3)\n",
    "    .do()\n",
    ")\n",
    "\n",
    "response_json = json.dumps(response, indent=2) \n",
    "print(response_json)"
   ]
  },
  {
   "cell_type": "markdown",
   "metadata": {},
   "source": [
    "6. Send me a bot that is designed to detect spam tokens within blockchain networks using advanced algorithms that analyze multiple indicators.\\\n",
    "\\\n",
    "Expected: Token Spam Detector / Sandbox\\\n",
    "Actual: \n",
    "Search Type: Aggregation\\\n",
    "Result:"
   ]
  },
  {
   "cell_type": "markdown",
   "metadata": {},
   "source": [
    "7. Can I have a bot designed to monitor the Ethereum blockchain for indicators of malicious activity related to draining funds from users, such as through scam transactions.\\\n",
    "\\\n",
    "Expected: harry-bot-threatintel\\\n",
    "Actual: \n",
    "Search Type: Aggregation\\\n",
    "Result:"
   ]
  },
  {
   "cell_type": "markdown",
   "metadata": {},
   "source": [
    "8. Give me a bot that monitors notification EOAs to track and alert the scam activities.\\\n",
    "\\\n",
    "Expected: Scam Notifier Bot\\\n",
    "Actual: \n",
    "Search Type: Aggregation\\\n",
    "Result:"
   ]
  },
  {
   "cell_type": "markdown",
   "metadata": {},
   "source": [
    "9. I want a security bot that consists of multiple parts that involve detecting attacks on Ethereum-like smart contract protocols in real-time and handling false positives within the Web3 ecosystem.\\\n",
    "\\\n",
    "Expected: Attack Detector Feed (beta)\\\n",
    "Actual: \n",
    "Search Type: Aggregation\\\n",
    "Result:"
   ]
  },
  {
   "cell_type": "markdown",
   "metadata": {},
   "source": [
    "10. Show me a bot that is a security agent designed to monitor and report wallet balances for a series of fleet_keys and pink_panther accounts on different networks, such as Ethereum (ETH), Binance Smart Chain (BSC), and Polygon (MATIC).\\\n",
    "\\\n",
    "Expected: minimum-balance\\\n",
    "Actual: \n",
    "Search Type: Aggregation\\\n",
    "Result:"
   ]
  },
  {
   "cell_type": "markdown",
   "metadata": {},
   "source": [
    "### Paraphrased Questions\n",
    "\n",
    "Questions that we currently do not know if they exist in database."
   ]
  },
  {
   "cell_type": "markdown",
   "metadata": {},
   "source": [
    "1. What type of Web3 bot would be recommended for monitoring and alerting on decreases in the virtual prices of AA (senior) and BB (junior) tranches within Idle Finance's Perpetual Yield Tranches in the DeFi ecosystem on the Ethereum blockchain, and what are its key functionalities and components?\\\n",
    "\\\n",
    "Expected: Idle PYTs tranche virtualPrice decrease"
   ]
  },
  {
   "cell_type": "code",
   "execution_count": 19,
   "metadata": {},
   "outputs": [
    {
     "name": "stdout",
     "output_type": "stream",
     "text": [
      "{\n",
      "  \"data\": {\n",
      "    \"Get\": {\n",
      "      \"FortaBot\": [\n",
      "        {\n",
      "          \"name\": \"Idle PYTs tranche virtualPrice decrease\"\n",
      "        },\n",
      "        {\n",
      "          \"name\": \"harry-bot-threatintel\"\n",
      "        },\n",
      "        {\n",
      "          \"name\": \"Mercado Coin Function Calls\"\n",
      "        }\n",
      "      ]\n",
      "    }\n",
      "  }\n",
      "}\n"
     ]
    }
   ],
   "source": [
    "response = (\n",
    "    client.query\n",
    "    .get(\"FortaBot\", [\"name\"])\n",
    "    .with_near_text({\"concepts\":[\"Web3\", \"monitoring\", \"tranches\", \"Idle\", \"Finances\", \"DeFi\", \"Ethereum\"]})\n",
    "    .with_limit(3)\n",
    "    .do()\n",
    ")\n",
    "\n",
    "response_json = json.dumps(response, indent=2) \n",
    "print(response_json)"
   ]
  },
  {
   "cell_type": "markdown",
   "metadata": {},
   "source": [
    "2. Recommend a bot that identifies fraudulent tokens engaged in rake scams, which impose an extra swap fee on the Uniswap decentralized exchange and divert it to an externally owned account.\\\n",
    "\\\n",
    "Expected: rake-scam-token-detection-bot"
   ]
  },
  {
   "cell_type": "code",
   "execution_count": 21,
   "metadata": {},
   "outputs": [
    {
     "name": "stdout",
     "output_type": "stream",
     "text": [
      "{\n",
      "  \"data\": {\n",
      "    \"Get\": {\n",
      "      \"FortaBot\": [\n",
      "        {\n",
      "          \"name\": \"rake-scam-token-detection-bot\"\n",
      "        },\n",
      "        {\n",
      "          \"name\": \"harry-bot-threatintel\"\n",
      "        },\n",
      "        {\n",
      "          \"name\": \"Large Balance Decrease - Avalanche Bridge\"\n",
      "        }\n",
      "      ]\n",
      "    }\n",
      "  }\n",
      "}\n"
     ]
    }
   ],
   "source": [
    "response = (\n",
    "    client.query\n",
    "    .get(\"FortaBot\", [\"name\"])\n",
    "    .with_near_text({\"concepts\":[\"blockchain bot\", \"fraudulent tokens\", \"rake scams\", \"swap fee\", \"Uniswap decentralized exchange\"]})\n",
    "    .with_limit(3)\n",
    "    .do()\n",
    ")\n",
    "\n",
    "response_json = json.dumps(response, indent=2) \n",
    "print(response_json)"
   ]
  },
  {
   "cell_type": "markdown",
   "metadata": {},
   "source": [
    "3. Is there a bot that detects scam activity preferably based on notification EOAs.\\\n",
    "\\\n",
    "Expected: Scam Notifier Bot"
   ]
  },
  {
   "cell_type": "code",
   "execution_count": 22,
   "metadata": {},
   "outputs": [
    {
     "name": "stdout",
     "output_type": "stream",
     "text": [
      "{\n",
      "  \"data\": {\n",
      "    \"Get\": {\n",
      "      \"FortaBot\": [\n",
      "        {\n",
      "          \"name\": \"Evidence of Phishing Agent\"\n",
      "        },\n",
      "        {\n",
      "          \"name\": \"phishing-scam-detection-ml-bot\"\n",
      "        },\n",
      "        {\n",
      "          \"name\": \"scam-notifier-bot\"\n",
      "        }\n",
      "      ]\n",
      "    }\n",
      "  }\n",
      "}\n"
     ]
    }
   ],
   "source": [
    "response = (\n",
    "    client.query\n",
    "    .get(\"FortaBot\", [\"name\"])\n",
    "    .with_near_text({\"concepts\":\n",
    "[\"scam activity\", \"notification EOAs\", \"blockchain bot\"]})\n",
    "    .with_limit(3)\n",
    "    .do()\n",
    ")\n",
    "\n",
    "response_json = json.dumps(response, indent=2) \n",
    "print(response_json)"
   ]
  }
 ],
 "metadata": {
  "kernelspec": {
   "display_name": "Python 3",
   "language": "python",
   "name": "python3"
  },
  "language_info": {
   "codemirror_mode": {
    "name": "ipython",
    "version": 3
   },
   "file_extension": ".py",
   "mimetype": "text/x-python",
   "name": "python",
   "nbconvert_exporter": "python",
   "pygments_lexer": "ipython3",
   "version": "3.11.1"
  }
 },
 "nbformat": 4,
 "nbformat_minor": 2
}
